{
  "nbformat": 4,
  "nbformat_minor": 0,
  "metadata": {
    "colab": {
      "provenance": []
    },
    "kernelspec": {
      "name": "python3",
      "display_name": "Python 3"
    },
    "language_info": {
      "name": "python"
    }
  },
  "cells": [
    {
      "cell_type": "code",
      "execution_count": 1,
      "metadata": {
        "colab": {
          "base_uri": "https://localhost:8080/"
        },
        "id": "z7IlDJrGiVrm",
        "outputId": "6f4cbfc3-7c50-4a48-d084-906ca30cde9a"
      },
      "outputs": [
        {
          "output_type": "stream",
          "name": "stdout",
          "text": [
            "Cloning into 'twint'...\n",
            "remote: Enumerating objects: 47, done.\u001b[K\n",
            "remote: Counting objects: 100% (47/47), done.\u001b[K\n",
            "remote: Compressing objects: 100% (44/44), done.\u001b[K\n",
            "remote: Total 47 (delta 3), reused 14 (delta 0), pack-reused 0\u001b[K\n",
            "Unpacking objects: 100% (47/47), done.\n",
            "Looking in indexes: https://pypi.org/simple, https://us-python.pkg.dev/colab-wheels/public/simple/\n",
            "Processing /content/twint\n",
            "\u001b[33m  DEPRECATION: A future pip version will change local packages to be built in-place without first copying to a temporary directory. We recommend you use --use-feature=in-tree-build to test your packages with this new behavior before it becomes the default.\n",
            "   pip 21.3 will remove support for this functionality. You can find discussion regarding this at https://github.com/pypa/pip/issues/7555.\u001b[0m\n",
            "Requirement already satisfied: aiohttp in /usr/local/lib/python3.7/dist-packages (from -r requirements.txt (line 1)) (3.8.3)\n",
            "Collecting aiodns\n",
            "  Downloading aiodns-3.0.0-py3-none-any.whl (5.0 kB)\n",
            "Requirement already satisfied: beautifulsoup4 in /usr/local/lib/python3.7/dist-packages (from -r requirements.txt (line 3)) (4.6.3)\n",
            "Collecting cchardet\n",
            "  Downloading cchardet-2.1.7-cp37-cp37m-manylinux2010_x86_64.whl (263 kB)\n",
            "\u001b[K     |████████████████████████████████| 263 kB 5.2 MB/s \n",
            "\u001b[?25hCollecting dataclasses\n",
            "  Downloading dataclasses-0.6-py3-none-any.whl (14 kB)\n",
            "Collecting elasticsearch\n",
            "  Downloading elasticsearch-8.5.2-py3-none-any.whl (385 kB)\n",
            "\u001b[K     |████████████████████████████████| 385 kB 38.2 MB/s \n",
            "\u001b[?25hRequirement already satisfied: pysocks in /usr/local/lib/python3.7/dist-packages (from -r requirements.txt (line 7)) (1.7.1)\n",
            "Requirement already satisfied: pandas>=0.23.0 in /usr/local/lib/python3.7/dist-packages (from -r requirements.txt (line 8)) (1.3.5)\n",
            "Collecting aiohttp_socks<=0.4.1\n",
            "  Downloading aiohttp_socks-0.4.1-py3-none-any.whl (17 kB)\n",
            "Collecting schedule\n",
            "  Downloading schedule-1.1.0-py2.py3-none-any.whl (10 kB)\n",
            "Requirement already satisfied: geopy in /usr/local/lib/python3.7/dist-packages (from -r requirements.txt (line 11)) (1.17.0)\n",
            "Collecting fake-useragent\n",
            "  Downloading fake_useragent-1.1.0-py3-none-any.whl (50 kB)\n",
            "\u001b[K     |████████████████████████████████| 50 kB 2.8 MB/s \n",
            "\u001b[?25hCollecting googletransx\n",
            "  Downloading googletransx-2.4.2.tar.gz (13 kB)\n",
            "Requirement already satisfied: python-dateutil>=2.7.3 in /usr/local/lib/python3.7/dist-packages (from pandas>=0.23.0->-r requirements.txt (line 8)) (2.8.2)\n",
            "Requirement already satisfied: pytz>=2017.3 in /usr/local/lib/python3.7/dist-packages (from pandas>=0.23.0->-r requirements.txt (line 8)) (2022.6)\n",
            "Requirement already satisfied: numpy>=1.17.3 in /usr/local/lib/python3.7/dist-packages (from pandas>=0.23.0->-r requirements.txt (line 8)) (1.21.6)\n",
            "Requirement already satisfied: attrs>=19.2.0 in /usr/local/lib/python3.7/dist-packages (from aiohttp_socks<=0.4.1->-r requirements.txt (line 9)) (22.1.0)\n",
            "Requirement already satisfied: yarl<2.0,>=1.0 in /usr/local/lib/python3.7/dist-packages (from aiohttp->-r requirements.txt (line 1)) (1.8.1)\n",
            "Requirement already satisfied: asynctest==0.13.0 in /usr/local/lib/python3.7/dist-packages (from aiohttp->-r requirements.txt (line 1)) (0.13.0)\n",
            "Requirement already satisfied: async-timeout<5.0,>=4.0.0a3 in /usr/local/lib/python3.7/dist-packages (from aiohttp->-r requirements.txt (line 1)) (4.0.2)\n",
            "Requirement already satisfied: frozenlist>=1.1.1 in /usr/local/lib/python3.7/dist-packages (from aiohttp->-r requirements.txt (line 1)) (1.3.3)\n",
            "Requirement already satisfied: multidict<7.0,>=4.5 in /usr/local/lib/python3.7/dist-packages (from aiohttp->-r requirements.txt (line 1)) (6.0.2)\n",
            "Requirement already satisfied: charset-normalizer<3.0,>=2.0 in /usr/local/lib/python3.7/dist-packages (from aiohttp->-r requirements.txt (line 1)) (2.1.1)\n",
            "Requirement already satisfied: typing-extensions>=3.7.4 in /usr/local/lib/python3.7/dist-packages (from aiohttp->-r requirements.txt (line 1)) (4.1.1)\n",
            "Requirement already satisfied: aiosignal>=1.1.2 in /usr/local/lib/python3.7/dist-packages (from aiohttp->-r requirements.txt (line 1)) (1.3.1)\n",
            "Requirement already satisfied: six>=1.5 in /usr/local/lib/python3.7/dist-packages (from python-dateutil>=2.7.3->pandas>=0.23.0->-r requirements.txt (line 8)) (1.15.0)\n",
            "Requirement already satisfied: idna>=2.0 in /usr/local/lib/python3.7/dist-packages (from yarl<2.0,>=1.0->aiohttp->-r requirements.txt (line 1)) (2.10)\n",
            "Collecting pycares>=4.0.0\n",
            "  Downloading pycares-4.2.2-cp37-cp37m-manylinux_2_17_x86_64.manylinux2014_x86_64.whl (288 kB)\n",
            "\u001b[K     |████████████████████████████████| 288 kB 38.5 MB/s \n",
            "\u001b[?25hRequirement already satisfied: cffi>=1.5.0 in /usr/local/lib/python3.7/dist-packages (from pycares>=4.0.0->aiodns->-r requirements.txt (line 2)) (1.15.1)\n",
            "Requirement already satisfied: pycparser in /usr/local/lib/python3.7/dist-packages (from cffi>=1.5.0->pycares>=4.0.0->aiodns->-r requirements.txt (line 2)) (2.21)\n",
            "Collecting elastic-transport<9,>=8\n",
            "  Downloading elastic_transport-8.4.0-py3-none-any.whl (59 kB)\n",
            "\u001b[K     |████████████████████████████████| 59 kB 2.6 MB/s \n",
            "\u001b[?25hCollecting urllib3<2,>=1.26.2\n",
            "  Downloading urllib3-1.26.13-py2.py3-none-any.whl (140 kB)\n",
            "\u001b[K     |████████████████████████████████| 140 kB 52.0 MB/s \n",
            "\u001b[?25hRequirement already satisfied: certifi in /usr/local/lib/python3.7/dist-packages (from elastic-transport<9,>=8->elasticsearch->-r requirements.txt (line 6)) (2022.9.24)\n",
            "Requirement already satisfied: geographiclib<2,>=1.49 in /usr/local/lib/python3.7/dist-packages (from geopy->-r requirements.txt (line 11)) (1.52)\n",
            "Requirement already satisfied: importlib-resources>=5.0 in /usr/local/lib/python3.7/dist-packages (from fake-useragent->-r requirements.txt (line 12)) (5.10.0)\n",
            "Requirement already satisfied: importlib-metadata~=4.0 in /usr/local/lib/python3.7/dist-packages (from fake-useragent->-r requirements.txt (line 12)) (4.13.0)\n",
            "Requirement already satisfied: zipp>=0.5 in /usr/local/lib/python3.7/dist-packages (from importlib-metadata~=4.0->fake-useragent->-r requirements.txt (line 12)) (3.10.0)\n",
            "Requirement already satisfied: requests in /usr/local/lib/python3.7/dist-packages (from googletransx->-r requirements.txt (line 13)) (2.23.0)\n",
            "Requirement already satisfied: chardet<4,>=3.0.2 in /usr/local/lib/python3.7/dist-packages (from requests->googletransx->-r requirements.txt (line 13)) (3.0.4)\n",
            "Collecting requests\n",
            "  Downloading requests-2.28.1-py3-none-any.whl (62 kB)\n",
            "\u001b[K     |████████████████████████████████| 62 kB 507 kB/s \n",
            "\u001b[?25hBuilding wheels for collected packages: twint, googletransx\n",
            "  Building wheel for twint (setup.py) ... \u001b[?25l\u001b[?25hdone\n",
            "  Created wheel for twint: filename=twint-2.1.21-py3-none-any.whl size=38870 sha256=cd603215f2a0abc5e3b857adb33f580bacff01bdc11017793a580c6d574beeb5\n",
            "  Stored in directory: /tmp/pip-ephem-wheel-cache-72ngifd0/wheels/f7/3e/11/2803f3c6890e87a9bec35bb8e37ef1ad0777a00f43e2441fb1\n",
            "  Building wheel for googletransx (setup.py) ... \u001b[?25l\u001b[?25hdone\n",
            "  Created wheel for googletransx: filename=googletransx-2.4.2-py3-none-any.whl size=15968 sha256=594b012833d8f1f67e1614bab1741669a76ad1e75a0e3a68143965f6402711e2\n",
            "  Stored in directory: /root/.cache/pip/wheels/66/d5/b1/31104b338f7fd45aa8f7d22587765db06773b13df48a89735f\n",
            "Successfully built twint googletransx\n",
            "Installing collected packages: urllib3, requests, pycares, elastic-transport, schedule, googletransx, fake-useragent, elasticsearch, dataclasses, cchardet, aiohttp-socks, aiodns, twint\n",
            "  Attempting uninstall: urllib3\n",
            "    Found existing installation: urllib3 1.24.3\n",
            "    Uninstalling urllib3-1.24.3:\n",
            "      Successfully uninstalled urllib3-1.24.3\n",
            "  Attempting uninstall: requests\n",
            "    Found existing installation: requests 2.23.0\n",
            "    Uninstalling requests-2.23.0:\n",
            "      Successfully uninstalled requests-2.23.0\n",
            "Successfully installed aiodns-3.0.0 aiohttp-socks-0.4.1 cchardet-2.1.7 dataclasses-0.6 elastic-transport-8.4.0 elasticsearch-8.5.2 fake-useragent-1.1.0 googletransx-2.4.2 pycares-4.2.2 requests-2.28.1 schedule-1.1.0 twint-2.1.21 urllib3-1.26.13\n",
            "Looking in indexes: https://pypi.org/simple, https://us-python.pkg.dev/colab-wheels/public/simple/\n",
            "Collecting aiohttp==3.7.0\n",
            "  Downloading aiohttp-3.7.0-cp37-cp37m-manylinux2014_x86_64.whl (1.3 MB)\n",
            "\u001b[K     |████████████████████████████████| 1.3 MB 5.2 MB/s \n",
            "\u001b[?25hRequirement already satisfied: yarl<2.0,>=1.0 in /usr/local/lib/python3.7/dist-packages (from aiohttp==3.7.0) (1.8.1)\n",
            "Requirement already satisfied: attrs>=17.3.0 in /usr/local/lib/python3.7/dist-packages (from aiohttp==3.7.0) (22.1.0)\n",
            "Collecting async-timeout<4.0,>=3.0\n",
            "  Downloading async_timeout-3.0.1-py3-none-any.whl (8.2 kB)\n",
            "Requirement already satisfied: chardet<4.0,>=2.0 in /usr/local/lib/python3.7/dist-packages (from aiohttp==3.7.0) (3.0.4)\n",
            "Requirement already satisfied: multidict<7.0,>=4.5 in /usr/local/lib/python3.7/dist-packages (from aiohttp==3.7.0) (6.0.2)\n",
            "Requirement already satisfied: idna>=2.0 in /usr/local/lib/python3.7/dist-packages (from yarl<2.0,>=1.0->aiohttp==3.7.0) (2.10)\n",
            "Requirement already satisfied: typing-extensions>=3.7.4 in /usr/local/lib/python3.7/dist-packages (from yarl<2.0,>=1.0->aiohttp==3.7.0) (4.1.1)\n",
            "Installing collected packages: async-timeout, aiohttp\n",
            "  Attempting uninstall: async-timeout\n",
            "    Found existing installation: async-timeout 4.0.2\n",
            "    Uninstalling async-timeout-4.0.2:\n",
            "      Successfully uninstalled async-timeout-4.0.2\n",
            "  Attempting uninstall: aiohttp\n",
            "    Found existing installation: aiohttp 3.8.3\n",
            "    Uninstalling aiohttp-3.8.3:\n",
            "      Successfully uninstalled aiohttp-3.8.3\n",
            "Successfully installed aiohttp-3.7.0 async-timeout-3.0.1\n",
            "Looking in indexes: https://pypi.org/simple, https://us-python.pkg.dev/colab-wheels/public/simple/\n",
            "Collecting nest_asyncio\n",
            "  Downloading nest_asyncio-1.5.6-py3-none-any.whl (5.2 kB)\n",
            "Installing collected packages: nest-asyncio\n",
            "Successfully installed nest-asyncio-1.5.6\n"
          ]
        }
      ],
      "source": [
        "#install requirements\n",
        "!git clone --depth=1 https://github.com/twintproject/twint.git\n",
        "!cd /content/twint && pip3 install . -r requirements.txt\n",
        "!pip install aiohttp==3.7.0\n",
        "!pip install nest_asyncio"
      ]
    },
    {
      "cell_type": "code",
      "source": [
        "# Import Libraries\n",
        "\n",
        "import twint\n",
        "import nest_asyncio\n",
        "nest_asyncio.apply()\n",
        "import time\n",
        "import pandas as pd\n",
        "import os\n",
        "import re\n",
        "timestr = time.strftime(\"%Y%m%d\")"
      ],
      "metadata": {
        "id": "d2ZwQZzli0pR"
      },
      "execution_count": 2,
      "outputs": []
    },
    {
      "cell_type": "code",
      "source": [
        "t = twint.Config()\n",
        "# t.Limit = 30\n",
        "\n",
        "t.Username = \"fchollet\"\n",
        "t.Store_csv = True       # store tweets in a csv file\n",
        "t.Output = \"results.csv\"     # path to csv file\n",
        "t.Lang = \"en\"\n",
        "t.Store_csv = True\n",
        "t.Output = \"profile_scrape.csv\"\n",
        "twint.run.Search(t)"
      ],
      "metadata": {
        "colab": {
          "base_uri": "https://localhost:8080/"
        },
        "id": "krpHTxG4jMI2",
        "outputId": "d4f4ca8b-cf38-4b71-cd5b-f7801416bcbf"
      },
      "execution_count": 3,
      "outputs": [
        {
          "output_type": "stream",
          "name": "stdout",
          "text": [
            "1596672646607175680 2022-11-27 01:09:58 +0000 <fchollet> We're pretty good at solving hard problems while sleeping or while doing something else. But for that effect to kick in, you need to have spent a while banging your head at the problem first. It's only payback for prior effort.\n",
            "1596302590412992513 2022-11-26 00:39:30 +0000 <fchollet> @gusthema Awesome! Thank you.\n",
            "1596301350002122752 2022-11-26 00:34:34 +0000 <fchollet> @gusthema I didn't see that! What's the PR?\n",
            "1596298242689732608 2022-11-26 00:22:13 +0000 <fchollet> @lawrencecchen Once you go back, causality branches, so the young you is a different person, with their own life ahead of them. And you're killing that person to replace them...\n",
            "1596296935287451648 2022-11-26 00:17:01 +0000 <fchollet> What if you could go back in time to when you were X year old but with your current knowledge / memories?  Well, that would mean you'd be killing the younger you and taking their place in that timeline. You monster.\n",
            "1596227696480382977 2022-11-25 19:41:53 +0000 <fchollet> Or in some cases, not paying the bills, I suppose.  https://t.co/LL5PP9j9cm\n",
            "1596227612673990656 2022-11-25 19:41:33 +0000 <fchollet> I'm never leaving. I started tweeting before EM (he started in 2011, I started in 2009), and I'll still be here after he's gone (unless I get kicked out or the site shuts down).  This is my page. He's just paying the bills.\n",
            "1596156005947428870 2022-11-25 14:57:01 +0000 <fchollet> One possibility: add support for StableDiffusion 2.0 in KerasCV\n",
            "1595879079093612544 2022-11-24 20:36:37 +0000 <fchollet> \"sure, people whose stuff i admire like Stephen King, Trent Reznor, or Neil Gaiman are savagely dunking on me, but at least the far-right meme makers will always have my back\"\n",
            "1595795837594251264 2022-11-24 15:05:50 +0000 <fchollet> Happy Thanksgiving to all who celebrate! 🦃\n",
            "1595544154473652224 2022-11-23 22:25:44 +0000 <fchollet> Don't know what to do over the long weekend? Enter the Keras community prize -- create OSS notebooks and win $9k in prizes. Open until late December.  https://t.co/wV1eOkaC6D\n",
            "1595468851755778048 2022-11-23 17:26:31 +0000 <fchollet> Many people in tech have so little exposure to philosophy (or the humanities in general) that when they get exposed to old ideas like Plato's cavern or the simulation hypothesis, they think it's extremely profound and novel\n",
            "1595260430104289280 2022-11-23 03:38:19 +0000 <fchollet> 📌 I've started a newsletter. Subscribe to stay in touch!  https://t.co/b678OACRKh\n",
            "1595253017519198209 2022-11-23 03:08:52 +0000 <fchollet> A nice thing about software development is that you're never done learning. There's always something new.\n",
            "1595206758011924480 2022-11-23 00:05:03 +0000 <fchollet> Perhaps there's something in the water right now, but it seems public displays of sociopathy (up to explicit calls for violence) are getting increasingly common and normalized. The worst people are feeling empowered. Reminds me of late 2016.\n",
            "1595155467747364865 2022-11-22 20:41:14 +0000 <fchollet> @FProescholdt Yes, this tweet thread\n",
            "1595127744643616769 2022-11-22 18:51:05 +0000 <fchollet> Announcing the Keras community prize, running from today to December 31st:  https://t.co/ebtZVdhPet  Any OSS project using (or forking) KerasCV StableDiffusion is eligible. Notebooks, GitHub repos, tutorials, etc.\n",
            "1595106575873880064 2022-11-22 17:26:57 +0000 <fchollet> Note that economic output is different from economic input. Don't look at funding, which is merely a measure of blind hype. Look at revenue.\n",
            "1595106357870743554 2022-11-22 17:26:06 +0000 <fchollet> The only reliable way to evaluate the importance of an AI product / advance is to wait 1-2 years after public release and look at its economic impact. Game-changers have immediate, large impact, and drive entire new genres of *profitable* startups. Economic output can't be gamed.\n",
            "1595105259739025408 2022-11-22 17:21:44 +0000 <fchollet> Product gets hyped based on demos. Gets released. Turns out to have weak generalization power beyond the demos and to fail to live up to expectations. Hype dies down. Rinse and repeat.\n",
            "1595104464352210944 2022-11-22 17:18:34 +0000 <fchollet> With AI systems, it's a bad idea to use a product demo (= absolute best case scenario) to extrapolate about the median case. The value of AI lies in its ability to generalize, which is entirely impossible to evaluate from a cherrypicked sample.\n",
            "1595066193777688576 2022-11-22 14:46:30 +0000 <fchollet> Some people like to brag about being apolitical -- even unaware of all recent political events. From a selfish perspective, I can see the appeal of dispensing with the collective. But if you zoom out -- it's not something to brag about. Stand for something other than yourself.\n",
            "1594940962664779778 2022-11-22 06:28:52 +0000 <fchollet> If you have trouble understanding something, maybe you just need a better metaphor.\n",
            "1594843004703215616 2022-11-21 23:59:37 +0000 <fchollet> Episode 2:  https://t.co/TXOxKd2UKp\n",
            "1594784954717769730 2022-11-21 20:08:57 +0000 <fchollet> @migueldeicaza @AlexBBrown I am on Mastodon at  https://t.co/VOSzJ4foka. I'll stay on Twitter too though. Unclear how active I'll be on Mastodon\n",
            "1594569696837537792 2022-11-21 05:53:36 +0000 <fchollet> 1,800 subscribers so far. We're still early!\n",
            "1594568527520096257 2022-11-21 05:48:57 +0000 <fchollet> I just sent out this week's edition of my newsletter.   https://t.co/TXOxKd2UKp  If you end up liking this post, consider subscribing. It's free, and you can always unsubscribe later.\n",
            "1594546867337297920 2022-11-21 04:22:53 +0000 <fchollet> @levie But not until he gets rid of 85+% of the staff\n",
            "1594526419648139265 2022-11-21 03:01:37 +0000 <fchollet> model dot fit()\n",
            "1594516776632844290 2022-11-21 02:23:18 +0000 <fchollet> Especially right now. You still have so much. Still ahead of what's to come. Hope you can appreciate it. You have tigers, for instance. Orangutans. It won't last.\n",
            "1594514833151774721 2022-11-21 02:15:35 +0000 <fchollet> If you ever find yourself bored, that's just a signal that you need to go somewhere you haven't been before, do something you haven't done before, meet someone you haven't met before. The world is full of wonder and you won't ever see more than 0.0...01% of it. Can't get bored.\n",
            "1594490823479263232 2022-11-21 00:40:11 +0000 <fchollet> Reference map for non-US folks.  https://t.co/MwbxWwXTkR\n",
            "1594489214523289600 2022-11-21 00:33:47 +0000 <fchollet> @npthree Yes, the 101 starts (ends?) near Olympia. You can get to LA via the 101 by taking it in the opposite direction to what you're describing. It's not the fastest route by any means, though -- the fastest route is via the I-5.\n",
            "1594486935506268160 2022-11-21 00:24:44 +0000 <fchollet> The 101 is in so many songs... but for me it will always rhyme with Silicon Valley traffic.\n",
            "1594486659806285824 2022-11-21 00:23:38 +0000 <fchollet> Today I drove on the 101... near Olympia, WA. Weird feeling to think that I could just keep driving and get to LA without ever having to turn.  I mean, theoretically -- if I could drive 20+ hours straight.\n",
            "1594376625642434562 2022-11-20 17:06:24 +0000 <fchollet> @kylebrussell Geometry diagrams are more akin to symbolic language than to an exact simulation of the system they represent. Ideograms come to mind.\n",
            "1594365867957309440 2022-11-20 16:23:39 +0000 <fchollet> To be clear, this is not a diss directed at the NYT. I occasionally read the NYT and Le Figaro. They're fine!\n",
            "1594365090794737667 2022-11-20 16:20:34 +0000 <fchollet> But I can certainly believe that the NYT is \"far to the left\" of those who call it \"far left\".\n",
            "1594364827140755458 2022-11-20 16:19:31 +0000 <fchollet> \"Far left\" would be something like Jacobin. And even that is very much the bourgeois brand of far left -- it's cosplay. In 2022, the far left is pretty much extinct.\n",
            "1594364150331080704 2022-11-20 16:16:49 +0000 <fchollet> In pretty much any country, the New York Times would be classified as a center-right paper -- it has about the same ideological color as Le Figaro in France. Pro-establishment, center-right, with a solid chunk of the readership that's upper middle class or downright elite.\n",
            "1594207386906300417 2022-11-20 05:53:54 +0000 <fchollet> With creative writing, you need to weave threads of thought over a much larger-scale context, and you get zero external feedback. You can't \"run\" your writing against reality -- nor even your mental models.\n",
            "1594206907325374464 2022-11-20 05:52:00 +0000 <fchollet> I think programming tends to involve local, small-scale cognitive workspaces, which are easy to spin up even when tired. A sequence of microtasks, with a lot of environmental guidance (your code's actual output).\n",
            "1594206381309317120 2022-11-20 05:49:54 +0000 <fchollet> I find programming a lot easier than creative writing -- when I'm exhausted I can still code and debug just fine, but I absolutely could not write three coherent paragraphs of interesting content.\n",
            "1594183841132216320 2022-11-20 04:20:20 +0000 <fchollet> One of my biggest regrets is not putting enough effort into learning to sing. I wish I could sing better songs to my kid\n",
            "1594156736348565506 2022-11-20 02:32:38 +0000 <fchollet> @pwang My timeline is chronological. On the Android app, the oldest tweets I can see (at the very bottom of the feed) are from 5 hours ago. Never seen the before -- usually it goes back 48 hours without any problem.\n",
            "1594144817524903939 2022-11-20 01:45:16 +0000 <fchollet> Just so you know... being an online bootlicker for powerful people who don't care whether you live or die is not going to make you rich.\n",
            "1594136589005115392 2022-11-20 01:12:35 +0000 <fchollet> Wow, that poll was about as suspenseful as a Russian presidential election!  Since we got the desired result, the poll definitely embodies the \"voice of the people\" -- please ignore all previous comments mentioning massive bot participation. Vox Populi, Vox Dei.\n",
            "1594128030926245891 2022-11-20 00:38:34 +0000 <fchollet> Children are a miracle.\n",
            "1594105770425339905 2022-11-19 23:10:07 +0000 <fchollet> Some folks mentioned the poll could be a honeypot. Maybe! Given that he mentioned wanting to reduce the reach of \"bad\" accounts, the goal might be to reduce the reach of everyone who voted \"no\". Hence why he'd want as many people to vote as possible.\n",
            "1594093319306743808 2022-11-19 22:20:38 +0000 <fchollet> \"Top priority is fixing the bot problem\"  \"Let's start by firing nearly all moderators and disbanding the machine learning team\"  What was that word again? \"Fad baith\"?\n",
            "1594089227679305728 2022-11-19 22:04:23 +0000 <fchollet> As long as the outcome is my desired outcome, my ridiculous form of opinion polling must be fully trustworthy. But if not... Either I'll have to fix the numbers, or I'll declare it's the fault of bots and that we should discard the results.\n",
            "1594088626216108033 2022-11-19 22:01:59 +0000 <fchollet> This is interesting:  1. I thought we had defeated the bots already? 2. Funny how bots always push things I don't like. It's a good way to know if someone is a bot or not: do I agree with them? No? Then bot. 3. If EM admits that the poll is rigged by bot armies, why trust it?  https://t.co/BYyvs1cF7W\n",
            "1594085078417960960 2022-11-19 21:47:54 +0000 <fchollet> We could replace US elections with Twitter polls. It'd be faster, cheaper, it'd let the whole world participate, &amp; it'd give even more sway to Russian botfarms, which is nice feature. If something goes wrong, the site owner can always manually edit the results, so it's risk-free.\n",
            "1594082927595618304 2022-11-19 21:39:21 +0000 <fchollet> @AlainRogister @ZoeSchiffer For the most part, they have stay to keep their immigration status. They don't have much of a choice unfortunately. Then there's probably a handful who are EM fans.\n",
            "1594079034207801344 2022-11-19 21:23:52 +0000 <fchollet> @ludwig_stumpp Thank you Ludwig 🙏\n",
            "1594078280529084416 2022-11-19 21:20:53 +0000 <fchollet> @kemar74 At least they're no longer able to buy checkmarks right now...\n",
            "1593786155350503426 2022-11-19 02:00:05 +0000 <fchollet> @ZoeSchiffer He meant that comedy is now legal *at* Twitter, I suppose\n",
            "1593784669564440576 2022-11-19 01:54:10 +0000 <fchollet> New posts on Sunday evenings for now!\n",
            "1593662702039465984 2022-11-18 17:49:31 +0000 <fchollet> Software isn't fire-and-forget, even if you're using a managed cloud (which Twitter isn't -- it's all on-prem).  Software rots. It needs upgrades, restarts, patches. It needs constant maintenance.  And the more complex the system, the heavier the traffic, the faster the rot.\n",
            "1593662006623895553 2022-11-18 17:46:45 +0000 <fchollet> (lol -- my last tweet didn't go through -- \"something went wrong\", said Twitter. Let me retype.)\n",
            "1593661098896789504 2022-11-18 17:43:09 +0000 <fchollet> Could be issues with moderation (hardly anyone left there). With bots/scammers (it's an adversarial problem: they evolve fast). Security vulnerabilities.  Or it could be site reliability issues. That's stochastic. You don't know when it will crop up. But when it does, good luck.\n",
            "1593660472028692480 2022-11-18 17:40:39 +0000 <fchollet> For the record, the risk created by Twitter being down to 12-13% of its original employee base is not \"the site instantly goes dark\". It's a robust site. The risk is that Twitter won't be able to address issues that come up going forward.\n",
            "1593560576667840512 2022-11-18 11:03:43 +0000 <fchollet> I wonder what the breakdown is. How many of the 20 are ML eng? 2? One for the ML infra &amp; 1 to write the models? Maybe also 1 data eng.  So 3 for ML 3 for Android 3 for iOS 2 for web 3 for the backend 5 for the data center (cloud services are NOT hardcore)  I've got one to spare!\n",
            "1593557708997038080 2022-11-18 10:52:19 +0000 <fchollet> Twitter previously had 7,500 employees. I'm guessing about 3,000 were engineers. So 20 engineers should be able to handle the same scope of work just fine, as long as they're 150x engineers.\n",
            "1593483925195993089 2022-11-18 05:59:07 +0000 <fchollet> \"I could build Twitter in a weekend\"\n",
            "1593444322590208000 2022-11-18 03:21:45 +0000 <fchollet> @aryalpranays I was hugely pro Elon until at least 2017. I didn't change my mind: he changed my mind.\n",
            "1593420188703412224 2022-11-18 01:45:51 +0000 <fchollet> Thread collecting Twitter employee resignations.  Good time to say this: I'm grateful for Twitter. It's a great app, and I've found it immensely valuable over the years. Thank you for your part in building it! 🫡\n",
            "1593395981416288256 2022-11-18 00:09:40 +0000 <fchollet> Twitter is now a \"developing situation\", as they say   https://t.co/bYCx6beEif\n",
            "1593391994461913088 2022-11-17 23:53:49 +0000 <fchollet> @AdrianThonig @nicopellerin_io I recall @chipzel was suspended, for instance. Thankfully she's back now.\n",
            "1593389471910985729 2022-11-17 23:43:48 +0000 <fchollet> @nicopellerin_io For mild criticism of the new management.  Multiple accounts (include a few I followed) have already been suspended for making fun of the new proprietor.\n",
            "1593387622499782656 2022-11-17 23:36:27 +0000 <fchollet> My first post was very short and lightweight -- much more like a Twitter thread than a proper article. If I'm going to write weekly, this might be what that looks like. I have a full-time job and a family, after all.  I might also infrequently write longer, more polished essays.\n",
            "1593386868623962113 2022-11-17 23:33:27 +0000 <fchollet> However, diversification makes a lot of sense in the current situation.  I'm actually pretty excited about writing longer-form content on a regular basis! I'm still in the process of figuring out the format I want to adopt, though. I'll keep iterating.   https://t.co/VRl314OhI3\n",
            "1593386393119903744 2022-11-17 23:31:34 +0000 <fchollet> To be clear, I'm not leaving Twitter. I've been on Twitter for over 13 years and I like it here. Besides, I think it's very likely that the site will be under new management within one year.   https://t.co/oc8Jz499dL\n",
            "1593385934552465408 2022-11-17 23:29:45 +0000 <fchollet> There's some uncertainty right now about Twitter. There's some chance the site might break, or that I get kicked out at some point, or that non-subscribers get soft-muted, or that Twitter gets paywalled.  If you want to keep in touch: I started a Substack.  https://t.co/b678OACRKh\n",
            "1593350553601740801 2022-11-17 21:09:09 +0000 <fchollet> A closely related point: health insurance being tied to your employer. Extremely backward.\n",
            "1593345812892786688 2022-11-17 20:50:19 +0000 <fchollet> The sad part is that the 10 staying are probably on H-1B or have a pending green card application :(  Work visas should not be tied to specific employers.\n",
            "1593326346314186753 2022-11-17 19:32:58 +0000 <fchollet> We've reorganized Keras tutorials by category and subcategory to make them easier to find!  https://t.co/eE1hRBF8Gt  Next, we'll add tags and a search bar specifically for tutorials.\n",
            "1593315609336582147 2022-11-17 18:50:18 +0000 <fchollet> @dwarkesh_sp LLMs (and large self-supervised deep learning models in general) are a continuous generalization of database technology. (This makes them potentially far more useful than databases, but also presents entirely new challenges, especially with respect to reliability.)\n",
            "1593282755626164224 2022-11-17 16:39:45 +0000 <fchollet> The future is going to be weird. And with a little luck, it's going to be good, too.\n",
            "1593063718963011584 2022-11-17 02:09:22 +0000 <fchollet> @behzadnouri Genuinely, no.  One year ago, this was an extremely controversial opinion -- everyone felt the need to pay respect to \"Blockchain tech\" out of fear of appearing unserious. Today it's far less controversial. In 3 years it will be universally accepted as self-evident.\n",
            "[!] No more data! Scraping will stop now.\n",
            "found 0 deleted tweets in this search.\n"
          ]
        }
      ]
    },
    {
      "cell_type": "code",
      "source": [
        "df1 = pd.read_csv(\"profile_scrape.csv\")\n",
        "df1.shape"
      ],
      "metadata": {
        "colab": {
          "base_uri": "https://localhost:8080/"
        },
        "id": "3d0KSm7jpeso",
        "outputId": "8ae86244-dc02-4058-8ed0-2381d2e581d3"
      },
      "execution_count": 4,
      "outputs": [
        {
          "output_type": "execute_result",
          "data": {
            "text/plain": [
              "(80, 36)"
            ]
          },
          "metadata": {},
          "execution_count": 4
        }
      ]
    },
    {
      "cell_type": "code",
      "source": [],
      "metadata": {
        "id": "w8W_tsQMplFu"
      },
      "execution_count": null,
      "outputs": []
    }
  ]
}